{
 "cells": [
  {
   "cell_type": "code",
   "execution_count": null,
   "id": "23369319-f774-4a1b-bf08-f1ad8a79d362",
   "metadata": {},
   "outputs": [],
   "source": [
    "import pandas as pd\n",
    "import seaborn as sb\n",
    "import numpy as np\n",
    "import matplotlib.pyplot as plt\n",
    "import math\n",
    "from scipy import stats\n",
    "\n",
    "crime_housing = pd.read_csv('crime-housing-austin-2015.csv')\n",
    "# print(crime_housing.columns)"
   ]
  },
  {
   "cell_type": "code",
   "execution_count": null,
   "id": "2ac72ae4",
   "metadata": {},
   "outputs": [],
   "source": [
    "# build df with relevant cols. \n",
    "df_poverty = pd.read_csv('crime-housing-austin-2015.csv', usecols=[\n",
    "    'Highest_NIBRS_UCR_Offense_Description', \n",
    "    'Zip_Code_Crime',\n",
    "    'Changeinpercentageofpopulationbelowpoverty2000-2012',\n",
    "    'Populationbelowpovertylevel'\n",
    "    ])\n",
    "\n",
    "df_poverty = df_poverty.rename(columns={'Zip_Code_Crime': 'Zip Code'})\n",
    "\n",
    "\n",
    "\n",
    "\n",
    "\n"
   ]
  },
  {
   "cell_type": "code",
   "execution_count": null,
   "id": "f3efa775",
   "metadata": {},
   "outputs": [],
   "source": [
    "# Read in zip code file for per capita info\n",
    "df_zip_codes = pd.read_csv('AustinZipCodes.csv', usecols=['Zip Code', 'Population', 'People / Sq. Mile'])\n",
    "\n",
    "\n",
    "# Merge data frames on the 'Zip Code' column\n",
    "merged_df = pd.merge(df_poverty, df_zip_codes, on='Zip Code', how='left')\n",
    "\n",
    "# Calculate total number of crime reports for each zip code\n",
    "crime_reports_count = merged_df['Zip Code'].value_counts().reset_index()\n",
    "\n",
    "# Rename the columns\n",
    "crime_reports_count.columns = ['Zip Code', 'Total_Crimes']\n",
    "\n",
    "# Merge the crime reports count with df_zip_codes\n",
    "df_zip_codes = pd.merge(df_zip_codes, crime_reports_count, on='Zip Code', how='left')\n",
    "\n",
    "# Fill NaN values with 0 for zip codes with no crime reports\n",
    "# df_zip_codes['Total_Crimes'].fillna(0, inplace=True)\n",
    "df_zip_codes = df_zip_codes.dropna()\n",
    "\n",
    "df_zip_codes['People / Sq. Mile'] = df_zip_codes['People / Sq. Mile'].str.replace(',','').astype('float64')\n",
    "df_zip_codes['Population']= df_zip_codes['Population'].str.replace(',','').astype('float64')\n",
    "\n",
    "\n",
    "# add crimes per capita column.\n",
    "df_zip_codes['Crimes_Per_Capita'] = (df_zip_codes['Total_Crimes'] / df_zip_codes['Population'])\n",
    "\n",
    "\n",
    "percent_poverty = df_poverty[['Zip Code', 'Populationbelowpovertylevel']].drop_duplicates().reset_index(drop=True)\n",
    "percent_change_poverty = df_poverty[['Zip Code', 'Changeinpercentageofpopulationbelowpoverty2000-2012']].drop_duplicates().reset_index(drop=True)\n",
    "df_zip_codes = pd.merge(df_zip_codes, percent_poverty, on='Zip Code', how='left')\n",
    "df_zip_codes = pd.merge(df_zip_codes, percent_change_poverty, on='Zip Code', how='left')\n",
    "\n",
    "\n",
    "df_zip_codes.head(50)\n"
   ]
  },
  {
   "cell_type": "code",
   "execution_count": null,
   "id": "7b099a89",
   "metadata": {},
   "outputs": [],
   "source": [
    "dropped = df_zip_codes.dropna()\n",
    "\"\"\"\n",
    "Converting percentages to floats. Using the recommended .loc iterator prevents me from using the regplot because\n",
    "pandas doesn't recognize the resulting columns as having a datatype of float and rather insists the datatype is object\n",
    "even when I confirm the datatype of each field is a float. \n",
    "\"\"\"\n",
    "dropped['Populationbelowpovertylevel'] = dropped['Populationbelowpovertylevel'].str.replace('%','').astype('float64')\n",
    "dropped['Changeinpercentageofpopulationbelowpoverty2000-2012'] = dropped['Changeinpercentageofpopulationbelowpoverty2000-2012'].str.replace('%','').astype('float64')\n",
    "\n",
    "# dropped zip code 78701 as an outlier.\n",
    "dropped = dropped.drop(21).reset_index(drop=True)\n",
    "\n",
    "# Correlation tests\n",
    "print('Correlation between Crimes Per Capita and Population below poverty level')\n",
    "print(stats.pearsonr(dropped['Crimes_Per_Capita'], dropped['Populationbelowpovertylevel']))\n",
    "print('Correlation between Crimes Per Capita and Change in percentage below poverty level')\n",
    "print(stats.pearsonr(dropped['Crimes_Per_Capita'], dropped['Changeinpercentageofpopulationbelowpoverty2000-2012']))\n",
    "dropped.head(50)"
   ]
  },
  {
   "cell_type": "code",
   "execution_count": null,
   "id": "89b58a9d",
   "metadata": {},
   "outputs": [],
   "source": [
    "# dropped.loc[:,'Changeinpercentageofpopulationbelowpoverty2000-2012'] = pd.to_numeric(dropped['Changeinpercentageofpopulationbelowpoverty2000-2012'], errors='coerce')\n",
    "# dropped.loc[:,'Populationbelowpovertylevel'] = pd.to_numeric(dropped['Populationbelowpovertylevel'], errors='coerce')\n",
    "\n",
    "\n",
    "sb.regplot(data=dropped, x=dropped['Populationbelowpovertylevel'], y=dropped['Crimes_Per_Capita'])\n",
    "\n",
    "# non_numeric_values = dropped['Changeinpercentageofpopulationbelowpoverty2000-2012'][pd.to_numeric(dropped['Changeinpercentageofpopulationbelowpoverty2000-2012'], errors='coerce').isna()]\n"
   ]
  },
  {
   "cell_type": "code",
   "execution_count": null,
   "metadata": {},
   "outputs": [],
   "source": [
    "sb.regplot(data=dropped, x=dropped['Changeinpercentageofpopulationbelowpoverty2000-2012'], y=dropped['Crimes_Per_Capita'])\n",
    "plt.xlabel('Change_%Pop_Below_Poverty')\n",
    "plt.title(\"Total Crimes vs Change in poverty\")\n",
    "plt.ylim(0, None)"
   ]
  },
  {
   "cell_type": "markdown",
   "id": "033a9e11",
   "metadata": {},
   "source": [
    "# Nate's analyses"
   ]
  },
  {
   "cell_type": "code",
   "execution_count": null,
   "id": "206023b6",
   "metadata": {},
   "outputs": [],
   "source": [
    "# Grab crime data\n",
    "crimeData = pd.read_csv(\"crime-housing-austin-2015.csv\")\n",
    "crimeData.rename(columns={'Zip_Code_Crime': 'Zip Code'}, inplace=True)\n",
    "# display(crimeData)\n",
    "display(crimeData.columns)\n",
    "display(crimeData['Highest_NIBRS_UCR_Offense_Description'].unique())"
   ]
  },
  {
   "cell_type": "code",
   "execution_count": null,
   "id": "a06543d3",
   "metadata": {},
   "outputs": [],
   "source": [
    "# Grab zip data\n",
    "zipData = pd.read_csv(\"AustinZipCodes.csv\")\n",
    "zipData['National Rank'] = zipData['National Rank'].str.replace('#', '').str.replace(',', '').astype('int')\n",
    "zipData['People / Sq. Mile'] = zipData['People / Sq. Mile'].str.replace(',', '').astype('float')\n",
    "zipData['Population'] = zipData['Population'].str.replace(',', '').astype('int')\n",
    "zipData = zipData[['Zip Code', 'Location', 'Population', 'People / Sq. Mile', 'National Rank']]\n",
    "display(zipData)"
   ]
  },
  {
   "cell_type": "code",
   "execution_count": null,
   "id": "91f45217",
   "metadata": {},
   "outputs": [],
   "source": [
    "# If the population density outlier were to be removed\n",
    "# zipData = zipData.sort_values(by='People / Sq. Mile')\n",
    "# zipData = zipData.drop(zipData.index[-1])\n",
    "# zipData"
   ]
  },
  {
   "cell_type": "code",
   "execution_count": null,
   "id": "ea727467",
   "metadata": {},
   "outputs": [],
   "source": [
    "# Combine the data into a single df\n",
    "combinedData = pd.merge(crimeData, zipData, on=\"Zip Code\", how='left')\n",
    "display(combinedData)"
   ]
  },
  {
   "cell_type": "markdown",
   "id": "963a1fc5",
   "metadata": {},
   "source": [
    "## Total counts of reported crimes"
   ]
  },
  {
   "cell_type": "code",
   "execution_count": null,
   "id": "12cbf3cb",
   "metadata": {},
   "outputs": [],
   "source": [
    "crimeCounts = combinedData.groupby('Highest_NIBRS_UCR_Offense_Description')['Key'].count().reset_index()\n",
    "crimeCounts = crimeCounts.sort_values(ascending=False, by='Key')\n",
    "display(crimeCounts)\n",
    "sb.barplot(data=crimeCounts, x='Highest_NIBRS_UCR_Offense_Description', y='Key')\n",
    "\n",
    "plt.title('Crime Totals Across Austin')\n",
    "plt.xlabel('Crime classification')\n",
    "plt.ylabel('Total')"
   ]
  },
  {
   "cell_type": "markdown",
   "id": "eb85b447",
   "metadata": {},
   "source": [
    "## A look at crime clearances"
   ]
  },
  {
   "cell_type": "code",
   "execution_count": null,
   "id": "84173b4c",
   "metadata": {},
   "outputs": [],
   "source": [
    "crimeClearances = combinedData.groupby(['Highest_NIBRS_UCR_Offense_Description', 'Clearance_Status'])['Key'].count().reset_index()\n",
    "cleanedCounts = combinedData.dropna(subset='Clearance_Status').groupby('Highest_NIBRS_UCR_Offense_Description')['Key'].count().reset_index()\n",
    "crimeClearances = pd.merge(crimeClearances, cleanedCounts, how='left', on='Highest_NIBRS_UCR_Offense_Description')\n",
    "crimeClearances['Clearance_Percent'] = crimeClearances['Key_x'] / crimeClearances['Key_y'] * 100\n",
    "\n",
    "sb.barplot(data=crimeClearances, x='Highest_NIBRS_UCR_Offense_Description', y='Clearance_Percent', hue='Clearance_Status')\n",
    "\n",
    "plt.title('Clearance Status Percentages for Each Crime')\n",
    "plt.xlabel('Crime classification')\n",
    "plt.ylabel('Percent cleared')"
   ]
  },
  {
   "cell_type": "markdown",
   "id": "a59700d1",
   "metadata": {},
   "source": [
    "## Average population density per crime"
   ]
  },
  {
   "cell_type": "code",
   "execution_count": null,
   "id": "c4190410",
   "metadata": {},
   "outputs": [],
   "source": [
    "combinedData = combinedData.dropna(subset=['People / Sq. Mile'])\n",
    "byCrime = combinedData.groupby('Highest_NIBRS_UCR_Offense_Description')['People / Sq. Mile'].agg(['mean', 'std']).reset_index()\n",
    "byCrime.columns = ['Highest_NIBRS_UCR_Offense_Description', 'People / Sq. Mile', 'std']\n",
    "byCrime = byCrime.sort_values(ascending=False, by='People / Sq. Mile')\n",
    "display(byCrime)\n",
    "\n",
    "sb.barplot(data=byCrime, x='Highest_NIBRS_UCR_Offense_Description', y='People / Sq. Mile', errorbar='sd').set_ylim(3800, 4200)\n",
    "\n",
    "plt.title('Average Population Densities of Zip Codes in Which Crimes Were Committed')\n",
    "plt.xlabel('Crime classification')\n",
    "plt.ylabel('Average People / Sq. Mile')"
   ]
  },
  {
   "cell_type": "markdown",
   "id": "7ba20a3c",
   "metadata": {},
   "source": [
    "### Distribution of population densities of robberies"
   ]
  },
  {
   "cell_type": "code",
   "execution_count": null,
   "id": "8a7552a6",
   "metadata": {},
   "outputs": [],
   "source": [
    "sb.displot(data=combinedData[combinedData['Highest_NIBRS_UCR_Offense_Description'] == 'Robbery'], x='People / Sq. Mile', kind='kde')\n",
    "\n",
    "mean = byCrime[byCrime['Highest_NIBRS_UCR_Offense_Description'] == 'Robbery']['People / Sq. Mile'].astype(float).iloc[0]\n",
    "std = byCrime[byCrime['Highest_NIBRS_UCR_Offense_Description'] == 'Robbery']['std'].astype(float).iloc[0]\n",
    "plt.axvline(mean, color='red', linestyle='dashed', linewidth=2, label='Mean')\n",
    "plt.axvline(mean + std, color='green', linestyle='dashed', linewidth=2, label='Mean + 1 SD')\n",
    "plt.axvline(mean - std, color='green', linestyle='dashed', linewidth=2, label='Mean - 1 SD')\n",
    "\n",
    "plt.title('Population Density Distribution of Zip Codes in Which a Robbery was Reported')"
   ]
  },
  {
   "cell_type": "markdown",
   "id": "a68a3b5e",
   "metadata": {},
   "source": [
    "### Distribution of population densities of auto thefts"
   ]
  },
  {
   "cell_type": "code",
   "execution_count": null,
   "id": "aded1bb4",
   "metadata": {},
   "outputs": [],
   "source": [
    "sb.displot(data=combinedData[combinedData['Highest_NIBRS_UCR_Offense_Description'] == 'Auto Theft'], x='People / Sq. Mile', kind='kde')\n",
    "\n",
    "mean = byCrime[byCrime['Highest_NIBRS_UCR_Offense_Description'] == 'Auto Theft']['People / Sq. Mile'].astype(float).iloc[0]\n",
    "std = byCrime[byCrime['Highest_NIBRS_UCR_Offense_Description'] == 'Auto Theft']['std'].astype(float).iloc[0]\n",
    "plt.axvline(mean, color='red', linestyle='dashed', linewidth=2, label='Mean')\n",
    "plt.axvline(mean + std, color='green', linestyle='dashed', linewidth=2, label='Mean + 1 SD')\n",
    "plt.axvline(mean - std, color='green', linestyle='dashed', linewidth=2, label='Mean - 1 SD')\n",
    "\n",
    "plt.title('Population Density Distribution of Zip Codes in Which an Auto Theft was Reported')"
   ]
  },
  {
   "cell_type": "markdown",
   "id": "af4f9c6a",
   "metadata": {},
   "source": [
    "## Comparing average population densities of crimes"
   ]
  },
  {
   "cell_type": "code",
   "execution_count": null,
   "id": "ae2d7798",
   "metadata": {},
   "outputs": [],
   "source": [
    "sb.displot(data=combinedData, x='People / Sq. Mile',  hue='Highest_NIBRS_UCR_Offense_Description', kind='kde', common_norm=False)\n",
    "\n",
    "plt.title('Population Density Distribution of Zip Codes in Which a Crime was Reported')"
   ]
  },
  {
   "cell_type": "markdown",
   "id": "66d956ad",
   "metadata": {},
   "source": [
    "### Murders"
   ]
  },
  {
   "cell_type": "code",
   "execution_count": null,
   "id": "3fea40ba",
   "metadata": {},
   "outputs": [],
   "source": [
    "\n",
    "# display(stats.ttest_ind(combinedData[combinedData['Highest_NIBRS_UCR_Offense_Description'] == 'Murder']['People / Sq. Mile'], combinedData[combinedData['Highest_NIBRS_UCR_Offense_Description'] == 'Robbery']['People / Sq. Mile']))\n",
    "# display(stats.ttest_ind(combinedData[combinedData['Highest_NIBRS_UCR_Offense_Description'] == 'Murder']['People / Sq. Mile'], combinedData[combinedData['Highest_NIBRS_UCR_Offense_Description'] == 'Theft']['People / Sq. Mile']))\n",
    "# display(stats.ttest_ind(combinedData[combinedData['Highest_NIBRS_UCR_Offense_Description'] == 'Murder']['People / Sq. Mile'], combinedData[combinedData['Highest_NIBRS_UCR_Offense_Description'] == 'Auto Theft']['People / Sq. Mile']))\n",
    "# display(stats.ttest_ind(combinedData[combinedData['Highest_NIBRS_UCR_Offense_Description'] == 'Murder']['People / Sq. Mile'], combinedData[combinedData['Highest_NIBRS_UCR_Offense_Description'] == 'Agg Assault']['People / Sq. Mile']))\n",
    "# display(stats.ttest_ind(combinedData[combinedData['Highest_NIBRS_UCR_Offense_Description'] == 'Murder']['People / Sq. Mile'], combinedData[combinedData['Highest_NIBRS_UCR_Offense_Description'] == 'Burglary']['People / Sq. Mile']))\n",
    "# display(stats.ttest_ind(combinedData[combinedData['Highest_NIBRS_UCR_Offense_Description'] == 'Murder']['People / Sq. Mile'], combinedData[combinedData['Highest_NIBRS_UCR_Offense_Description'] == 'Rape']['People / Sq. Mile']))\n"
   ]
  },
  {
   "cell_type": "markdown",
   "id": "7bf9e987",
   "metadata": {},
   "source": [
    "### Burglaries"
   ]
  },
  {
   "cell_type": "code",
   "execution_count": null,
   "id": "c1e35914",
   "metadata": {},
   "outputs": [],
   "source": [
    "\n",
    "display(stats.ttest_ind(combinedData[combinedData['Highest_NIBRS_UCR_Offense_Description'] == 'Burglary']['People / Sq. Mile'], combinedData[combinedData['Highest_NIBRS_UCR_Offense_Description'] == 'Robbery']['People / Sq. Mile']))\n",
    "display(stats.ttest_ind(combinedData[combinedData['Highest_NIBRS_UCR_Offense_Description'] == 'Burglary']['People / Sq. Mile'], combinedData[combinedData['Highest_NIBRS_UCR_Offense_Description'] == 'Auto Theft']['People / Sq. Mile']))\n",
    "# display(stats.ttest_ind(combinedData[combinedData['Highest_NIBRS_UCR_Offense_Description'] == 'Burglary']['People / Sq. Mile'], combinedData[combinedData['Highest_NIBRS_UCR_Offense_Description'] == 'Agg Assault']['People / Sq. Mile']))\n",
    "display(stats.ttest_ind(combinedData[combinedData['Highest_NIBRS_UCR_Offense_Description'] == 'Burglary']['People / Sq. Mile'], combinedData[combinedData['Highest_NIBRS_UCR_Offense_Description'] == 'Theft']['People / Sq. Mile']))\n",
    "# display(stats.ttest_ind(combinedData[combinedData['Highest_NIBRS_UCR_Offense_Description'] == 'Burglary']['People / Sq. Mile'], combinedData[combinedData['Highest_NIBRS_UCR_Offense_Description'] == 'Rape']['People / Sq. Mile']))\n",
    "# display(stats.ttest_ind(combinedData[combinedData['Highest_NIBRS_UCR_Offense_Description'] == 'Burglary']['People / Sq. Mile'], combinedData[combinedData['Highest_NIBRS_UCR_Offense_Description'] == 'Murder']['People / Sq. Mile']))"
   ]
  },
  {
   "cell_type": "markdown",
   "id": "3e1a82f5",
   "metadata": {},
   "source": [
    "### Thefts"
   ]
  },
  {
   "cell_type": "code",
   "execution_count": null,
   "id": "7103f188",
   "metadata": {},
   "outputs": [],
   "source": [
    "\n",
    "display(stats.ttest_ind(combinedData[combinedData['Highest_NIBRS_UCR_Offense_Description'] == 'Theft']['People / Sq. Mile'], combinedData[combinedData['Highest_NIBRS_UCR_Offense_Description'] == 'Robbery']['People / Sq. Mile']))\n",
    "# display(stats.ttest_ind(combinedData[combinedData['Highest_NIBRS_UCR_Offense_Description'] == 'Theft']['People / Sq. Mile'], combinedData[combinedData['Highest_NIBRS_UCR_Offense_Description'] == 'Auto Theft']['People / Sq. Mile']))\n",
    "# display(stats.ttest_ind(combinedData[combinedData['Highest_NIBRS_UCR_Offense_Description'] == 'Theft']['People / Sq. Mile'], combinedData[combinedData['Highest_NIBRS_UCR_Offense_Description'] == 'Agg Assault']['People / Sq. Mile']))\n",
    "display(stats.ttest_ind(combinedData[combinedData['Highest_NIBRS_UCR_Offense_Description'] == 'Theft']['People / Sq. Mile'], combinedData[combinedData['Highest_NIBRS_UCR_Offense_Description'] == 'Burglary']['People / Sq. Mile']))\n",
    "# display(stats.ttest_ind(combinedData[combinedData['Highest_NIBRS_UCR_Offense_Description'] == 'Theft']['People / Sq. Mile'], combinedData[combinedData['Highest_NIBRS_UCR_Offense_Description'] == 'Rape']['People / Sq. Mile']))\n",
    "# display(stats.ttest_ind(combinedData[combinedData['Highest_NIBRS_UCR_Offense_Description'] == 'Theft']['People / Sq. Mile'], combinedData[combinedData['Highest_NIBRS_UCR_Offense_Description'] == 'Murder']['People / Sq. Mile']))\n"
   ]
  },
  {
   "cell_type": "markdown",
   "id": "952cb089",
   "metadata": {},
   "source": [
    "### Robberies"
   ]
  },
  {
   "cell_type": "code",
   "execution_count": null,
   "id": "ded2061b",
   "metadata": {},
   "outputs": [],
   "source": [
    "\n",
    "display(stats.ttest_ind(combinedData[combinedData['Highest_NIBRS_UCR_Offense_Description'] == 'Robbery']['People / Sq. Mile'], combinedData[combinedData['Highest_NIBRS_UCR_Offense_Description'] == 'Theft']['People / Sq. Mile']))\n",
    "# display(stats.ttest_ind(combinedData[combinedData['Highest_NIBRS_UCR_Offense_Description'] == 'Robbery']['People / Sq. Mile'], combinedData[combinedData['Highest_NIBRS_UCR_Offense_Description'] == 'Auto Theft']['People / Sq. Mile']))\n",
    "display(stats.ttest_ind(combinedData[combinedData['Highest_NIBRS_UCR_Offense_Description'] == 'Robbery']['People / Sq. Mile'], combinedData[combinedData['Highest_NIBRS_UCR_Offense_Description'] == 'Agg Assault']['People / Sq. Mile']))\n",
    "display(stats.ttest_ind(combinedData[combinedData['Highest_NIBRS_UCR_Offense_Description'] == 'Robbery']['People / Sq. Mile'], combinedData[combinedData['Highest_NIBRS_UCR_Offense_Description'] == 'Burglary']['People / Sq. Mile']))\n",
    "# display(stats.ttest_ind(combinedData[combinedData['Highest_NIBRS_UCR_Offense_Description'] == 'Robbery']['People / Sq. Mile'], combinedData[combinedData['Highest_NIBRS_UCR_Offense_Description'] == 'Rape']['People / Sq. Mile']))\n",
    "# display(stats.ttest_ind(combinedData[combinedData['Highest_NIBRS_UCR_Offense_Description'] == 'Robbery']['People / Sq. Mile'], combinedData[combinedData['Highest_NIBRS_UCR_Offense_Description'] == 'Murder']['People / Sq. Mile']))\n"
   ]
  },
  {
   "cell_type": "markdown",
   "id": "9168b8fa",
   "metadata": {},
   "source": [
    "### Auto Thefts"
   ]
  },
  {
   "cell_type": "code",
   "execution_count": null,
   "id": "323ee6f8",
   "metadata": {},
   "outputs": [],
   "source": [
    "\n",
    "# display(stats.ttest_ind(combinedData[combinedData['Highest_NIBRS_UCR_Offense_Description'] == 'Auto Theft']['People / Sq. Mile'], combinedData[combinedData['Highest_NIBRS_UCR_Offense_Description'] == 'Robbery']['People / Sq. Mile']))\n",
    "# display(stats.ttest_ind(combinedData[combinedData['Highest_NIBRS_UCR_Offense_Description'] == 'Auto Theft']['People / Sq. Mile'], combinedData[combinedData['Highest_NIBRS_UCR_Offense_Description'] == 'Theft']['People / Sq. Mile']))\n",
    "display(stats.ttest_ind(combinedData[combinedData['Highest_NIBRS_UCR_Offense_Description'] == 'Auto Theft']['People / Sq. Mile'], combinedData[combinedData['Highest_NIBRS_UCR_Offense_Description'] == 'Agg Assault']['People / Sq. Mile']))\n",
    "display(stats.ttest_ind(combinedData[combinedData['Highest_NIBRS_UCR_Offense_Description'] == 'Auto Theft']['People / Sq. Mile'], combinedData[combinedData['Highest_NIBRS_UCR_Offense_Description'] == 'Burglary']['People / Sq. Mile']))\n",
    "# display(stats.ttest_ind(combinedData[combinedData['Highest_NIBRS_UCR_Offense_Description'] == 'Auto Theft']['People / Sq. Mile'], combinedData[combinedData['Highest_NIBRS_UCR_Offense_Description'] == 'Rape']['People / Sq. Mile']))\n",
    "# display(stats.ttest_ind(combinedData[combinedData['Highest_NIBRS_UCR_Offense_Description'] == 'Auto Theft']['People / Sq. Mile'], combinedData[combinedData['Highest_NIBRS_UCR_Offense_Description'] == 'Murder']['People / Sq. Mile']))\n",
    "\n"
   ]
  },
  {
   "cell_type": "markdown",
   "id": "64ae34e8",
   "metadata": {},
   "source": [
    "### Rapes"
   ]
  },
  {
   "cell_type": "code",
   "execution_count": null,
   "id": "ca38c548",
   "metadata": {},
   "outputs": [],
   "source": [
    "\n",
    "# display(stats.ttest_ind(combinedData[combinedData['Highest_NIBRS_UCR_Offense_Description'] == 'Rape']['People / Sq. Mile'], combinedData[combinedData['Highest_NIBRS_UCR_Offense_Description'] == 'Robbery']['People / Sq. Mile']))\n",
    "# display(stats.ttest_ind(combinedData[combinedData['Highest_NIBRS_UCR_Offense_Description'] == 'Rape']['People / Sq. Mile'], combinedData[combinedData['Highest_NIBRS_UCR_Offense_Description'] == 'Theft']['People / Sq. Mile']))\n",
    "# display(stats.ttest_ind(combinedData[combinedData['Highest_NIBRS_UCR_Offense_Description'] == 'Rape']['People / Sq. Mile'], combinedData[combinedData['Highest_NIBRS_UCR_Offense_Description'] == 'Auto Theft']['People / Sq. Mile']))\n",
    "# display(stats.ttest_ind(combinedData[combinedData['Highest_NIBRS_UCR_Offense_Description'] == 'Rape']['People / Sq. Mile'], combinedData[combinedData['Highest_NIBRS_UCR_Offense_Description'] == 'Agg Assault']['People / Sq. Mile']))\n",
    "# display(stats.ttest_ind(combinedData[combinedData['Highest_NIBRS_UCR_Offense_Description'] == 'Rape']['People / Sq. Mile'], combinedData[combinedData['Highest_NIBRS_UCR_Offense_Description'] == 'Burglary']['People / Sq. Mile']))\n",
    "# display(stats.ttest_ind(combinedData[combinedData['Highest_NIBRS_UCR_Offense_Description'] == 'Rape']['People / Sq. Mile'], combinedData[combinedData['Highest_NIBRS_UCR_Offense_Description'] == 'Murder']['People / Sq. Mile']))\n",
    "\n"
   ]
  },
  {
   "cell_type": "markdown",
   "id": "04ab7ac5",
   "metadata": {},
   "source": [
    "### Agg Assaults"
   ]
  },
  {
   "cell_type": "code",
   "execution_count": null,
   "id": "043b9fa4",
   "metadata": {},
   "outputs": [],
   "source": [
    "\n",
    "display(stats.ttest_ind(combinedData[combinedData['Highest_NIBRS_UCR_Offense_Description'] == 'Agg Assault']['People / Sq. Mile'], combinedData[combinedData['Highest_NIBRS_UCR_Offense_Description'] == 'Robbery']['People / Sq. Mile']))\n",
    "# display(stats.ttest_ind(combinedData[combinedData['Highest_NIBRS_UCR_Offense_Description'] == 'Agg Assault']['People / Sq. Mile'], combinedData[combinedData['Highest_NIBRS_UCR_Offense_Description'] == 'Theft']['People / Sq. Mile']))\n",
    "display(stats.ttest_ind(combinedData[combinedData['Highest_NIBRS_UCR_Offense_Description'] == 'Agg Assault']['People / Sq. Mile'], combinedData[combinedData['Highest_NIBRS_UCR_Offense_Description'] == 'Auto Theft']['People / Sq. Mile']))\n",
    "# display(stats.ttest_ind(combinedData[combinedData['Highest_NIBRS_UCR_Offense_Description'] == 'Agg Assault']['People / Sq. Mile'], combinedData[combinedData['Highest_NIBRS_UCR_Offense_Description'] == 'Burglary']['People / Sq. Mile']))\n",
    "# display(stats.ttest_ind(combinedData[combinedData['Highest_NIBRS_UCR_Offense_Description'] == 'Agg Assault']['People / Sq. Mile'], combinedData[combinedData['Highest_NIBRS_UCR_Offense_Description'] == 'Rape']['People / Sq. Mile']))\n",
    "# display(stats.ttest_ind(combinedData[combinedData['Highest_NIBRS_UCR_Offense_Description'] == 'Agg Assault']['People / Sq. Mile'], combinedData[combinedData['Highest_NIBRS_UCR_Offense_Description'] == 'Murder']['People / Sq. Mile']))\n",
    "\n"
   ]
  },
  {
   "cell_type": "code",
   "execution_count": null,
   "id": "2a802529",
   "metadata": {},
   "outputs": [],
   "source": [
    "sb.displot(data=combinedData[combinedData['Highest_NIBRS_UCR_Offense_Description'].isin(['Robbery','Burglary'])], x='People / Sq. Mile',  hue='Highest_NIBRS_UCR_Offense_Description', kind='kde', common_norm=False)\n",
    "\n",
    "plt.title('Population Density Distribution of Zip Codes in Which a Crime was Reported')"
   ]
  },
  {
   "cell_type": "code",
   "execution_count": null,
   "id": "0b3dc752",
   "metadata": {},
   "outputs": [],
   "source": [
    "sb.displot(data=combinedData[combinedData['Highest_NIBRS_UCR_Offense_Description'].isin(['Auto Theft','Burglary'])], x='People / Sq. Mile',  hue='Highest_NIBRS_UCR_Offense_Description', kind='kde', common_norm=False)\n",
    "\n",
    "plt.title('Population Density Distribution of Zip Codes in Which a Crime was Reported')"
   ]
  },
  {
   "cell_type": "code",
   "execution_count": null,
   "id": "7d4f2871",
   "metadata": {},
   "outputs": [],
   "source": [
    "sb.displot(data=combinedData[combinedData['Highest_NIBRS_UCR_Offense_Description'].isin(['Robbery','Agg Assault'])], x='People / Sq. Mile',  hue='Highest_NIBRS_UCR_Offense_Description', kind='kde', common_norm=False)\n",
    "\n",
    "plt.title('Population Density Distribution of Zip Codes in Which a Crime was Reported')"
   ]
  }
 ],
 "metadata": {
  "kernelspec": {
   "display_name": "Python 3 (ipykernel)",
   "language": "python",
   "name": "python3"
  },
  "language_info": {
   "codemirror_mode": {
    "name": "ipython",
    "version": 3
   },
   "file_extension": ".py",
   "mimetype": "text/x-python",
   "name": "python",
   "nbconvert_exporter": "python",
   "pygments_lexer": "ipython3",
   "version": "3.11.0"
  }
 },
 "nbformat": 4,
 "nbformat_minor": 5
}
