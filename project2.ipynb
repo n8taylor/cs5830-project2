{
 "cells": [
  {
   "cell_type": "code",
   "execution_count": null,
   "id": "23369319-f774-4a1b-bf08-f1ad8a79d362",
   "metadata": {},
   "outputs": [],
   "source": [
    "import pandas as pd\n",
    "import seaborn as sb\n",
    "import numpy as np\n",
    "import matplotlib.pyplot as plt\n",
    "import math\n",
    "from scipy import stats\n",
    "\n",
    "crime_housing = pd.read_csv('crime-housing-austin-2015.csv')\n",
    "# print(crime_housing.columns)"
   ]
  },
  {
   "cell_type": "code",
   "execution_count": null,
   "id": "2ac72ae4",
   "metadata": {},
   "outputs": [],
   "source": [
    "# build df with relevant cols. \n",
    "df_poverty = pd.read_csv('crime-housing-austin-2015.csv', usecols=[\n",
    "    'Highest_NIBRS_UCR_Offense_Description', \n",
    "    'Zip_Code_Crime',\n",
    "    'Changeinpercentageofpopulationbelowpoverty2000-2012',\n",
    "    'Populationbelowpovertylevel'\n",
    "    ])\n",
    "\n",
    "df_poverty = df_poverty.rename(columns={'Zip_Code_Crime': 'Zip Code'})\n",
    "\n",
    "\n",
    "\n",
    "\n",
    "\n"
   ]
  },
  {
   "cell_type": "code",
   "execution_count": null,
   "id": "f3efa775",
   "metadata": {},
   "outputs": [],
   "source": [
    "# Read in zip code file for per capita info\n",
    "df_zip_codes = pd.read_csv('AustinZipCodes.csv', usecols=['Zip Code', 'Population', 'People / Sq. Mile'])\n",
    "\n",
    "\n",
    "# Merge data frames on the 'Zip Code' column\n",
    "merged_df = pd.merge(df_poverty, df_zip_codes, on='Zip Code', how='left')\n",
    "\n",
    "# Calculate total number of crime reports for each zip code\n",
    "crime_reports_count = merged_df['Zip Code'].value_counts().reset_index()\n",
    "\n",
    "# Rename the columns\n",
    "crime_reports_count.columns = ['Zip Code', 'Total_Crimes']\n",
    "\n",
    "# Merge the crime reports count with df_zip_codes\n",
    "df_zip_codes = pd.merge(df_zip_codes, crime_reports_count, on='Zip Code', how='left')\n",
    "\n",
    "# Fill NaN values with 0 for zip codes with no crime reports\n",
    "# df_zip_codes['Total_Crimes'].fillna(0, inplace=True)\n",
    "df_zip_codes = df_zip_codes.dropna()\n",
    "\n",
    "df_zip_codes['People / Sq. Mile'] = df_zip_codes['People / Sq. Mile'].str.replace(',','').astype('float64')\n",
    "df_zip_codes['Population']= df_zip_codes['Population'].str.replace(',','').astype('float64')\n",
    "\n",
    "\n",
    "# add crimes per capita column.\n",
    "df_zip_codes['Crimes_Per_Capita'] = (df_zip_codes['Total_Crimes'] / df_zip_codes['Population'])\n",
    "\n",
    "\n",
    "percent_poverty = df_poverty[['Zip Code', 'Populationbelowpovertylevel']].drop_duplicates().reset_index(drop=True)\n",
    "percent_change_poverty = df_poverty[['Zip Code', 'Changeinpercentageofpopulationbelowpoverty2000-2012']].drop_duplicates().reset_index(drop=True)\n",
    "df_zip_codes = pd.merge(df_zip_codes, percent_poverty, on='Zip Code', how='left')\n",
    "df_zip_codes = pd.merge(df_zip_codes, percent_change_poverty, on='Zip Code', how='left')\n",
    "\n",
    "\n",
    "df_zip_codes.head(50)\n"
   ]
  },
  {
   "cell_type": "code",
   "execution_count": null,
   "id": "7b099a89",
   "metadata": {},
   "outputs": [],
   "source": [
    "dropped = df_zip_codes.dropna()\n",
    "\"\"\"\n",
    "Converting percentages to floats. Using the recommended .loc iterator prevents me from using the regplot because\n",
    "pandas doesn't recognize the resulting columns as having a datatype of float and rather insists the datatype is object\n",
    "even when I confirm the datatype of each field is a float. \n",
    "\"\"\"\n",
    "dropped['Populationbelowpovertylevel'] = dropped['Populationbelowpovertylevel'].str.replace('%','').astype('float64')\n",
    "dropped['Changeinpercentageofpopulationbelowpoverty2000-2012'] = dropped['Changeinpercentageofpopulationbelowpoverty2000-2012'].str.replace('%','').astype('float64')\n",
    "\n",
    "# dropped zip code 78701 as an outlier.\n",
    "dropped = dropped.drop(21).reset_index(drop=True)\n",
    "\n",
    "# Correlation tests\n",
    "print('Correlation between Crimes Per Capita and Population below poverty level')\n",
    "print(stats.pearsonr(dropped['Crimes_Per_Capita'], dropped['Populationbelowpovertylevel']))\n",
    "print('Correlation between Crimes Per Capita and Change in percentage below poverty level')\n",
    "print(stats.pearsonr(dropped['Crimes_Per_Capita'], dropped['Changeinpercentageofpopulationbelowpoverty2000-2012']))\n",
    "dropped.head(50)"
   ]
  },
  {
   "cell_type": "code",
   "execution_count": null,
   "id": "89b58a9d",
   "metadata": {},
   "outputs": [],
   "source": [
    "# dropped.loc[:,'Changeinpercentageofpopulationbelowpoverty2000-2012'] = pd.to_numeric(dropped['Changeinpercentageofpopulationbelowpoverty2000-2012'], errors='coerce')\n",
    "# dropped.loc[:,'Populationbelowpovertylevel'] = pd.to_numeric(dropped['Populationbelowpovertylevel'], errors='coerce')\n",
    "\n",
    "\n",
    "sb.regplot(data=dropped, x=dropped['Populationbelowpovertylevel'], y=dropped['Crimes_Per_Capita'])\n",
    "\n",
    "# non_numeric_values = dropped['Changeinpercentageofpopulationbelowpoverty2000-2012'][pd.to_numeric(dropped['Changeinpercentageofpopulationbelowpoverty2000-2012'], errors='coerce').isna()]\n"
   ]
  },
  {
   "cell_type": "code",
   "execution_count": null,
   "metadata": {},
   "outputs": [],
   "source": [
    "sb.regplot(data=dropped, x=dropped['Changeinpercentageofpopulationbelowpoverty2000-2012'], y=dropped['Crimes_Per_Capita'])\n",
    "plt.xlabel('Change_%Pop_Below_Poverty')\n",
    "plt.title(\"Total Crimes vs Change in poverty\")\n",
    "plt.ylim(0, None)"
   ]
  },
  {
   "cell_type": "markdown",
   "id": "033a9e11",
   "metadata": {},
   "source": [
    "# Nate's analyses"
   ]
  },
  {
   "cell_type": "code",
   "execution_count": null,
   "id": "206023b6",
   "metadata": {},
   "outputs": [],
   "source": [
    "# Grab crime data\n",
    "crimeData = pd.read_csv(\"crime-housing-austin-2015.csv\")\n",
    "crimeData.rename(columns={'Zip_Code_Crime': 'Zip Code'}, inplace=True)\n",
    "# display(crimeData)\n",
    "display(crimeData.columns)\n",
    "display(crimeData['Highest_NIBRS_UCR_Offense_Description'].unique())"
   ]
  },
  {
   "cell_type": "code",
   "execution_count": null,
   "id": "a06543d3",
   "metadata": {},
   "outputs": [],
   "source": [
    "# Grab zip data\n",
    "zipData = pd.read_csv(\"AustinZipCodes.csv\")\n",
    "zipData['National Rank'] = zipData['National Rank'].str.replace('#', '').str.replace(',', '').astype('int')\n",
    "zipData['People / Sq. Mile'] = zipData['People / Sq. Mile'].str.replace(',', '').astype('float')\n",
    "zipData['Population'] = zipData['Population'].str.replace(',', '').astype('int')\n",
    "zipData = zipData[['Zip Code', 'Location', 'Population', 'People / Sq. Mile', 'National Rank']]\n",
    "display(zipData)"
   ]
  },
  {
   "cell_type": "code",
   "execution_count": null,
   "id": "91f45217",
   "metadata": {},
   "outputs": [],
   "source": [
    "zipData.sort_values(by='People / Sq. Mile')\n"
   ]
  },
  {
   "cell_type": "code",
   "execution_count": null,
   "id": "ea727467",
   "metadata": {},
   "outputs": [],
   "source": [
    "# Combine the data into a single df\n",
    "combinedData = pd.merge(crimeData, zipData, on=\"Zip Code\", how='left')\n",
    "display(combinedData)"
   ]
  },
  {
   "cell_type": "markdown",
   "id": "963a1fc5",
   "metadata": {},
   "source": [
    "## Total counts of reported crimes"
   ]
  },
  {
   "cell_type": "code",
   "execution_count": null,
   "id": "12cbf3cb",
   "metadata": {},
   "outputs": [],
   "source": [
    "crimeCounts = combinedData.groupby('Highest_NIBRS_UCR_Offense_Description')['Key'].count().reset_index()\n",
    "crimeCounts = crimeCounts.sort_values(ascending=False, by='Key')\n",
    "display(crimeCounts)\n",
    "sb.barplot(data=crimeCounts, x='Highest_NIBRS_UCR_Offense_Description', y='Key')\n"
   ]
  },
  {
   "cell_type": "markdown",
   "id": "a59700d1",
   "metadata": {},
   "source": [
    "## Average population density per crime"
   ]
  },
  {
   "cell_type": "code",
   "execution_count": null,
   "id": "c4190410",
   "metadata": {},
   "outputs": [],
   "source": [
    "# Find average pop density per crime type\n",
    "# rapes = combinedData.groupby('Highest_NIBRS_UCR_Offense_Description')['People / Sq. Mile'].mean().reset_index()\n",
    "# display(rapes)\n",
    "\n",
    "\n",
    "# display(combinedData.sort_values(by='People / Sq. Mile'))\n",
    "combinedData = combinedData.dropna(subset=['People / Sq. Mile'])\n",
    "byCrime = combinedData.groupby('Highest_NIBRS_UCR_Offense_Description')['People / Sq. Mile'].mean().reset_index()\n",
    "byCrime = byCrime.sort_values(ascending=False, by='People / Sq. Mile')\n",
    "display(byCrime)\n",
    "sb.barplot(data=byCrime, x='Highest_NIBRS_UCR_Offense_Description', y='People / Sq. Mile').set_ylim(3800, 4200)\n",
    "\n"
   ]
  },
  {
   "cell_type": "markdown",
   "id": "af4f9c6a",
   "metadata": {},
   "source": [
    "## Comparing average population densities of crimes"
   ]
  },
  {
   "cell_type": "code",
   "execution_count": null,
   "id": "2a802529",
   "metadata": {},
   "outputs": [],
   "source": [
    "sb.displot(data=combinedData[combinedData['Highest_NIBRS_UCR_Offense_Description'].isin(['Robbery','Burglary'])], x='People / Sq. Mile',  hue='Highest_NIBRS_UCR_Offense_Description', kind='kde', common_norm=False)\n",
    "\n",
    "# display(stats.ttest_ind(combinedData[combinedData['Highest_NIBRS_UCR_Offense_Description'] == 'Theft']['People / Sq. Mile'], combinedData[combinedData['Highest_NIBRS_UCR_Offense_Description'] == 'Burglary']['People / Sq. Mile']))\n",
    "# display(stats.ttest_ind(combinedData[combinedData['Highest_NIBRS_UCR_Offense_Description'] == 'Rape']['People / Sq. Mile'], combinedData[combinedData['Highest_NIBRS_UCR_Offense_Description'] == 'Burglary']['People / Sq. Mile']))\n",
    "# display(stats.ttest_ind(combinedData[combinedData['Highest_NIBRS_UCR_Offense_Description'] == 'Burglary']['People / Sq. Mile'], combinedData[combinedData['Highest_NIBRS_UCR_Offense_Description'] == 'Robbery']['People / Sq. Mile']))\n",
    "# display(stats.ttest_ind(combinedData[combinedData['Highest_NIBRS_UCR_Offense_Description'] == 'Theft']['People / Sq. Mile'], combinedData[combinedData['Highest_NIBRS_UCR_Offense_Description'] == 'Robbery']['People / Sq. Mile']))\n",
    "# display(stats.ttest_ind(combinedData[combinedData['Highest_NIBRS_UCR_Offense_Description'] == 'Auto Theft']['People / Sq. Mile'], combinedData[combinedData['Highest_NIBRS_UCR_Offense_Description'] == 'Theft']['People / Sq. Mile']))\n",
    "# display(stats.ttest_ind(combinedData[combinedData['Highest_NIBRS_UCR_Offense_Description'] == 'Auto Theft']['People / Sq. Mile'], combinedData[combinedData['Highest_NIBRS_UCR_Offense_Description'] == 'Burglary']['People / Sq. Mile']))\n",
    "# display(stats.ttest_ind(combinedData[combinedData['Highest_NIBRS_UCR_Offense_Description'] == 'Auto Theft']['People / Sq. Mile'], combinedData[combinedData['Highest_NIBRS_UCR_Offense_Description'] == 'Robbery']['People / Sq. Mile']))\n",
    "# display(stats.ttest_ind(combinedData[combinedData['Highest_NIBRS_UCR_Offense_Description'] == 'Auto Theft']['People / Sq. Mile'], combinedData[combinedData['Highest_NIBRS_UCR_Offense_Description'] == 'Burglary']['People / Sq. Mile']))\n",
    "\n",
    "\n",
    "display(stats.ttest_ind(combinedData[combinedData['Highest_NIBRS_UCR_Offense_Description'] == 'Murder']['People / Sq. Mile'], combinedData[combinedData['Highest_NIBRS_UCR_Offense_Description'] == 'Burglary']['People / Sq. Mile']))\n",
    "\n",
    "# Crime types: ['Robbery', 'Burglary', 'Auto Theft', 'Agg Assault', 'Theft', 'Rape', 'Murder']\n",
    "\n",
    "print()\n"
   ]
  },
  {
   "cell_type": "markdown",
   "id": "7bf9e987",
   "metadata": {},
   "source": [
    "### Burglaries"
   ]
  },
  {
   "cell_type": "code",
   "execution_count": null,
   "id": "c1e35914",
   "metadata": {},
   "outputs": [],
   "source": [
    "\n",
    "display(stats.ttest_ind(combinedData[combinedData['Highest_NIBRS_UCR_Offense_Description'] == 'Burglary']['People / Sq. Mile'], combinedData[combinedData['Highest_NIBRS_UCR_Offense_Description'] == 'Robbery']['People / Sq. Mile']))\n",
    "# display(stats.ttest_ind(combinedData[combinedData['Highest_NIBRS_UCR_Offense_Description'] == 'Burglary']['People / Sq. Mile'], combinedData[combinedData['Highest_NIBRS_UCR_Offense_Description'] == 'Burglary']['People / Sq. Mile']))\n",
    "display(stats.ttest_ind(combinedData[combinedData['Highest_NIBRS_UCR_Offense_Description'] == 'Burglary']['People / Sq. Mile'], combinedData[combinedData['Highest_NIBRS_UCR_Offense_Description'] == 'Auto Theft']['People / Sq. Mile']))\n",
    "# display(stats.ttest_ind(combinedData[combinedData['Highest_NIBRS_UCR_Offense_Description'] == 'Burglary']['People / Sq. Mile'], combinedData[combinedData['Highest_NIBRS_UCR_Offense_Description'] == 'Agg Assault']['People / Sq. Mile']))\n",
    "display(stats.ttest_ind(combinedData[combinedData['Highest_NIBRS_UCR_Offense_Description'] == 'Burglary']['People / Sq. Mile'], combinedData[combinedData['Highest_NIBRS_UCR_Offense_Description'] == 'Theft']['People / Sq. Mile']))\n",
    "# display(stats.ttest_ind(combinedData[combinedData['Highest_NIBRS_UCR_Offense_Description'] == 'Burglary']['People / Sq. Mile'], combinedData[combinedData['Highest_NIBRS_UCR_Offense_Description'] == 'Rape']['People / Sq. Mile']))\n",
    "# display(stats.ttest_ind(combinedData[combinedData['Highest_NIBRS_UCR_Offense_Description'] == 'Burglary']['People / Sq. Mile'], combinedData[combinedData['Highest_NIBRS_UCR_Offense_Description'] == 'Murder']['People / Sq. Mile']))\n",
    "\n",
    "# combinedData.sort_values(by='People / Sq. Mile')\n",
    "\n",
    "# between two zip codes, compare crime types out of total crimes\n",
    "\n",
    "# stats.ttest_ind(df[df.State == 'RI'].Score, df[df.State == 'TX'].Score)\n"
   ]
  },
  {
   "cell_type": "markdown",
   "id": "3e1a82f5",
   "metadata": {},
   "source": [
    "### Thefts"
   ]
  },
  {
   "cell_type": "code",
   "execution_count": null,
   "id": "7103f188",
   "metadata": {},
   "outputs": [],
   "source": [
    "\n",
    "display(stats.ttest_ind(combinedData[combinedData['Highest_NIBRS_UCR_Offense_Description'] == 'Theft']['People / Sq. Mile'], combinedData[combinedData['Highest_NIBRS_UCR_Offense_Description'] == 'Robbery']['People / Sq. Mile']))\n",
    "# display(stats.ttest_ind(combinedData[combinedData['Highest_NIBRS_UCR_Offense_Description'] == 'Theft']['People / Sq. Mile'], combinedData[combinedData['Highest_NIBRS_UCR_Offense_Description'] == 'Theft']['People / Sq. Mile']))\n",
    "# display(stats.ttest_ind(combinedData[combinedData['Highest_NIBRS_UCR_Offense_Description'] == 'Theft']['People / Sq. Mile'], combinedData[combinedData['Highest_NIBRS_UCR_Offense_Description'] == 'Auto Theft']['People / Sq. Mile']))\n",
    "# display(stats.ttest_ind(combinedData[combinedData['Highest_NIBRS_UCR_Offense_Description'] == 'Theft']['People / Sq. Mile'], combinedData[combinedData['Highest_NIBRS_UCR_Offense_Description'] == 'Agg Assault']['People / Sq. Mile']))\n",
    "display(stats.ttest_ind(combinedData[combinedData['Highest_NIBRS_UCR_Offense_Description'] == 'Theft']['People / Sq. Mile'], combinedData[combinedData['Highest_NIBRS_UCR_Offense_Description'] == 'Burglary']['People / Sq. Mile']))\n",
    "# display(stats.ttest_ind(combinedData[combinedData['Highest_NIBRS_UCR_Offense_Description'] == 'Theft']['People / Sq. Mile'], combinedData[combinedData['Highest_NIBRS_UCR_Offense_Description'] == 'Rape']['People / Sq. Mile']))\n",
    "# display(stats.ttest_ind(combinedData[combinedData['Highest_NIBRS_UCR_Offense_Description'] == 'Theft']['People / Sq. Mile'], combinedData[combinedData['Highest_NIBRS_UCR_Offense_Description'] == 'Murder']['People / Sq. Mile']))\n",
    "\n",
    "# combinedData.sort_values(by='People / Sq. Mile')\n",
    "\n",
    "# between two zip codes, compare crime types out of total crimes\n",
    "\n",
    "# stats.ttest_ind(df[df.State == 'RI'].Score, df[df.State == 'TX'].Score)\n"
   ]
  },
  {
   "cell_type": "code",
   "execution_count": null,
   "id": "5e4f318f",
   "metadata": {},
   "outputs": [],
   "source": [
    "crimesByArtist = combinedData.groupby('Zip Code').agg({'Key': 'count', 'Rentalunitsaffordabletoaverageartist': 'first'}).reset_index()\n",
    "crimesByArtist = crimesByArtist.dropna(subset='Rentalunitsaffordabletoaverageartist')\n",
    "crimesByArtist['Rentalunitsaffordabletoaverageartist'] = crimesByArtist['Rentalunitsaffordabletoaverageartist'].str.replace('%', '').astype('int')\n",
    "display(crimesByArtist)\n",
    "\n",
    "# sb.barplot(data=crimesByArtist.head(5), x='Zip Code', hue='')\n",
    "\n",
    "# Create a bar chart with two y-axes\n",
    "fig, ax1 = plt.subplots()\n",
    "\n",
    "# Plot the first set of data on the first y-axis\n",
    "sb.barplot(x='Zip Code', y='Key', data=crimesByArtist.head(5), ax=ax1, color='blue', alpha=0.7)\n",
    "\n",
    "# Create a second y-axis on the same plot\n",
    "ax2 = ax1.twinx()\n",
    "\n",
    "# Plot the second set of data on the second y-axis\n",
    "sb.barplot(x='Zip Code', y='Rentalunitsaffordabletoaverageartist', data=crimesByArtist.head(5), ax=ax2, color='orange', alpha=0.7)\n",
    "\n",
    "# Adjust the colors and alpha values as needed\n",
    "\n",
    "# Show the plot\n",
    "plt.show()\n"
   ]
  },
  {
   "cell_type": "code",
   "execution_count": null,
   "id": "29c88f44",
   "metadata": {},
   "outputs": [],
   "source": [
    "crimesPerCapita = combinedData.groupby('Zip Code').agg({'Key': 'count', 'Population': 'first', 'People / Sq. Mile': 'first'}).reset_index()\n",
    "crimesPerCapita = crimesPerCapita.dropna(subset='Population')\n",
    "display(crimesPerCapita)\n",
    "crimesPerCapita['Crimes_Per_Capita'] = crimesPerCapita['Key'] / crimesPerCapita['Population']\n",
    "# crimesPerCapitaByPopulation = crimesPerCapita.sort_values('Population')\n",
    "# crimesByArtist = combinedData.groupby('Zip Code').agg({'Key': 'count', 'Rentalunitsaffordabletoaverageartist': 'first'}).reset_index()\n",
    "display(crimesPerCapita)\n",
    "\n",
    "# sb.regplot(data=crimesPerCapita, x=\"Population\", y=\"Crimes_Per_Capita\", scatter_kws={'s': 10})\n",
    "\n",
    "sb.regplot(data=crimesPerCapita, x=\"People / Sq. Mile\", y=\"Crimes_Per_Capita\", scatter_kws={'s': 10})\n",
    "# \n",
    "stats.pearsonr(crimesPerCapita[\"People / Sq. Mile\"], crimesPerCapita[\"Crimes_Per_Capita\"])"
   ]
  }
 ],
 "metadata": {
  "kernelspec": {
   "display_name": "Python 3 (ipykernel)",
   "language": "python",
   "name": "python3"
  },
  "language_info": {
   "codemirror_mode": {
    "name": "ipython",
    "version": 3
   },
   "file_extension": ".py",
   "mimetype": "text/x-python",
   "name": "python",
   "nbconvert_exporter": "python",
   "pygments_lexer": "ipython3",
   "version": "3.11.0"
  }
 },
 "nbformat": 4,
 "nbformat_minor": 5
}
