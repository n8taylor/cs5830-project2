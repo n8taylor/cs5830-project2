{
 "cells": [
  {
   "cell_type": "code",
   "execution_count": null,
   "id": "23369319-f774-4a1b-bf08-f1ad8a79d362",
   "metadata": {},
   "outputs": [],
   "source": [
    "import pandas as pd\n",
    "import seaborn as sb\n",
    "import numpy as np\n",
    "import matplotlib as plot\n",
    "import math\n",
    "from scipy import stats\n",
    "\n",
    "crime_housing = pd.read_csv('crime-housing-austin-2015.csv')\n",
    "crime_housing.head()\n",
    "print(crime_housing.columns)"
   ]
  },
  {
   "cell_type": "code",
   "execution_count": null,
   "id": "2ac72ae4",
   "metadata": {},
   "outputs": [],
   "source": [
    "# build df with relevant cols. \n",
    "df_poverty = pd.read_csv('crime-housing-austin-2015.csv', usecols=[\n",
    "    'Highest_NIBRS_UCR_Offense_Description', \n",
    "    'Zip_Code_Crime',\n",
    "    'Changeinpercentageofpopulationbelowpoverty2000-2012',\n",
    "    'Populationbelowpovertylevel'\n",
    "    ])\n",
    "\n",
    "df_poverty = df_poverty.rename(columns={'Zip_Code_Crime': 'Zip Code'})\n",
    "\n",
    "\n",
    "# Display the count\n",
    "# print(\"Count of rows with Zip Code 78733:\", zip_code_78733_count)\n",
    "# print(df_poverty[df_poverty['Zip Code'] == 78733\t])\n",
    "print(df_poverty['Zip Code'].value_counts(dropna=False))\n",
    "\n",
    "df_poverty.head()\n",
    "\n",
    "\n"
   ]
  },
  {
   "cell_type": "code",
   "execution_count": null,
   "id": "f3efa775",
   "metadata": {},
   "outputs": [],
   "source": [
    "df_zip_codes = pd.read_csv('AustinZipCodes.csv', usecols=['Zip Code', 'Population', 'People / Sq. Mile'])\n",
    "# merged_df = pd.merge(df_poverty, df_zip_codes, left_on='Zip_Code_Crime', right_on='Zip Code', how='left')\n",
    "\n",
    "# df_zip_codes['Total_Crimes'] = merged_df['Total']\n",
    "# Merge data frames on the 'Zip_Code_Crime' column\n",
    "merged_df = pd.merge(df_poverty, df_zip_codes, on='Zip Code', how='left')\n",
    "\n",
    "# Calculate total number of crime reports for each zip code\n",
    "crime_reports_count = merged_df['Zip Code'].value_counts().reset_index()\n",
    "\n",
    "# Rename columns for clarity\n",
    "crime_reports_count.columns = ['Zip Code', 'Total_Crimes']\n",
    "\n",
    "# Merge the crime reports count with df_zip_codes\n",
    "df_zip_codes = pd.merge(df_zip_codes, crime_reports_count, on='Zip Code', how='left')\n",
    "\n",
    "# Fill NaN values with 0 for zip codes with no crime reports\n",
    "df_zip_codes['Total_Crimes'].fillna(0, inplace=True)\n",
    "\n",
    "df_zip_codes['People / Sq. Mile'] = df_zip_codes['People / Sq. Mile'].str.replace(',','').astype('float64')\n",
    "df_zip_codes['Population']= df_zip_codes['Population'].str.replace(',','').astype('float64')\n",
    "# df_zip_codes = df_zip_codes.dropna()\n",
    "# print(df_zip_codes['Population'].dtype)\n",
    "\n",
    "# add crimes per capita column.\n",
    "df_zip_codes['Crimes_Per_Capita'] = (df_zip_codes['Total_Crimes'] / df_zip_codes['Population'])\n",
    "\n",
    "# add percentage of pop below poverty to \n",
    "percent_poverty = df_poverty[['Zip Code', 'Populationbelowpovertylevel']].drop_duplicates().reset_index(drop=True)\n",
    "\n",
    "df_zip_codes.head(50)"
   ]
  },
  {
   "cell_type": "code",
   "execution_count": null,
   "id": "89b58a9d",
   "metadata": {},
   "outputs": [],
   "source": [
    "sb.scatterplot(x=df_zip_codes['People / Sq. Mile'], y=df_zip_codes['Crimes_Per_Capita'])"
   ]
  }
 ],
 "metadata": {
  "kernelspec": {
   "display_name": "Python 3 (ipykernel)",
   "language": "python",
   "name": "python3"
  },
  "language_info": {
   "codemirror_mode": {
    "name": "ipython",
    "version": 3
   },
   "file_extension": ".py",
   "mimetype": "text/x-python",
   "name": "python",
   "nbconvert_exporter": "python",
   "pygments_lexer": "ipython3",
   "version": "3.10.6"
  }
 },
 "nbformat": 4,
 "nbformat_minor": 5
}
